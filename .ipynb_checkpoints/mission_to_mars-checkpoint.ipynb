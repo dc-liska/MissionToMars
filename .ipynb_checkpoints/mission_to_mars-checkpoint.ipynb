{
 "cells": [
  {
   "cell_type": "code",
   "execution_count": 1,
   "metadata": {},
   "outputs": [],
   "source": [
    "#Import Dependencies\n",
    "from splinter import Browser\n",
    "from bs4 import BeautifulSoup as bs\n"
   ]
  },
  {
   "cell_type": "code",
   "execution_count": 3,
   "metadata": {},
   "outputs": [
    {
     "name": "stdout",
     "output_type": "stream",
     "text": [
      "What's Mars Solar Conjunction, and Why Does It Matter?\n",
      "NASA spacecraft at Mars are going to be on their own for a few weeks when the Sun comes between Mars and Earth, interrupting communications.\n"
     ]
    }
   ],
   "source": [
    "#Scrape the NASA Mars News Site ( https://mars.nasa.gov/news/ ) and collect the latest News Title and Paragraph Text.\n",
    "def init_browser():\n",
    "    #executable_path = {\"executable_path\": \"/usr/local/bin/chromedriver\"}\n",
    "    executable_path = {\"executable_path\": \"resources/chromedriver\"}\n",
    "    return Browser(\"chrome\", **executable_path, headless=False)\n",
    "\n",
    "browser = init_browser()\n",
    "\n",
    "news_url = \"https://mars.nasa.gov/news/?page=0&per_page=40&order=publish_date+desc%2Ccreated_at+desc&search=&category=19%2C165%2C184%2C204&blank_scope=Latest\"\n",
    "browser.visit(news_url)\n",
    "\n",
    "html = browser.html\n",
    "soup = bs(html, \"html.parser\")\n",
    "\n",
    "news_title = soup.find_all(\"div\", class_=\"content_title\")[0].get_text()\n",
    "news_text = soup.find(\"div\", class_=\"article_teaser_body\").get_text()\n",
    "#soup.find('div', class_ = 'itemAttr').div.find_all('table')[1].find_all('tr')[6].find_all('td')[1].span.text\n",
    "\n",
    "\n",
    "print(news_title)\n",
    "print(news_text)\n"
   ]
  },
  {
   "cell_type": "code",
   "execution_count": 9,
   "metadata": {},
   "outputs": [
    {
     "name": "stdout",
     "output_type": "stream",
     "text": [
      "https://www.jpl.nasa.gov/spaceimages/images/wallpaper/PIA17563-1920x1200.jpg\n"
     ]
    }
   ],
   "source": [
    "#Visit https://www.jpl.nasa.gov/spaceimages/?search=&category=Mars for JPL Featured Space Image and use splinter to navigate the site and find the image url for the current Featured Mars Image and assign the url string to a variable called featured_image_url.\n",
    "\n",
    "featured_pic_url = \"https://www.jpl.nasa.gov/spaceimages/?search=&category=Mars\"\n",
    "browser.visit(featured_pic_url)\n",
    "\n",
    "html = browser.html\n",
    "soup = bs(html, \"html.parser\")\n",
    "\n",
    "#Featured Image identifying markup\n",
    "#style=\"background-image: url('/spaceimages/images/wallpaper/PIA18433-1920x1200.jpg')\n",
    "base_image_URL=\"https://www.jpl.nasa.gov\"\n",
    "#imageName\n",
    "featured_image_hypertext = soup.find(\"div\", class_=\"carousel_items\").find(\"article\")[\"style\"]\n",
    "featured_image_parts = featured_image_hypertext.split(\"'\")\n",
    "\n",
    "featured_image = featured_image_parts[1]\n",
    "featured_image_URL= str(base_image_URL) + str(featured_image)\n",
    "print(featured_image_URL)"
   ]
  },
  {
   "cell_type": "code",
   "execution_count": null,
   "metadata": {},
   "outputs": [],
   "source": []
  }
 ],
 "metadata": {
  "kernelspec": {
   "display_name": "Python 3",
   "language": "python",
   "name": "python3"
  },
  "language_info": {
   "codemirror_mode": {
    "name": "ipython",
    "version": 3
   },
   "file_extension": ".py",
   "mimetype": "text/x-python",
   "name": "python",
   "nbconvert_exporter": "python",
   "pygments_lexer": "ipython3",
   "version": "3.7.3"
  }
 },
 "nbformat": 4,
 "nbformat_minor": 2
}
